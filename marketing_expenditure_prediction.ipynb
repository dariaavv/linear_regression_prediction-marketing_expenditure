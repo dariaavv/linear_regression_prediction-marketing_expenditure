{
 "cells": [
  {
   "cell_type": "code",
   "execution_count": 1,
   "metadata": {},
   "outputs": [
    {
     "name": "stdout",
     "output_type": "stream",
     "text": [
      "[250877.19298246]\n"
     ]
    }
   ],
   "source": [
    "import numpy as np\n",
    "from sklearn import linear_model\n",
    "\n",
    "class MarketingCosts:\n",
    "\n",
    "    # param marketing_expenditure list. Expenditure for each previous campaign.\n",
    "    # param units_sold list. The number of units sold for each previous campaign.\n",
    "    # param desired_units_sold int. Target number of units to sell in the new campaign.\n",
    "    # returns float. Required amount of money to be invested.\n",
    "    @staticmethod\n",
    "    def desired_marketing_expenditure(marketing_expenditure, units_sold, desired_units_sold):\n",
    "        marketing_expenditure = np.asarray(marketing_expenditure)\n",
    "        units_sold = np.asarray(units_sold)\n",
    "        desired_units_sold = np.asarray(desired_units_sold)\n",
    "        #marketing_expenditure.reshape(-1,1)\n",
    "        units_sold = units_sold.reshape(-1,1)\n",
    "        desired_units_sold = desired_units_sold.reshape(1,-1)\n",
    "        lm = linear_model.LinearRegression()\n",
    "        model = lm.fit(units_sold,marketing_expenditure)\n",
    "        predictions = lm.predict(desired_units_sold)\n",
    "        return predictions\n",
    "\n",
    "#For example, with the parameters below the function should return 250000.0.\n",
    "print(MarketingCosts.desired_marketing_expenditure(\n",
    "    [300000, 200000, 400000, 300000, 100000],\n",
    "    [60000, 50000, 90000, 80000, 30000],\n",
    "    60000))\n"
   ]
  },
  {
   "cell_type": "code",
   "execution_count": null,
   "metadata": {},
   "outputs": [],
   "source": []
  }
 ],
 "metadata": {
  "kernelspec": {
   "display_name": "Python 3",
   "language": "python",
   "name": "python3"
  },
  "language_info": {
   "codemirror_mode": {
    "name": "ipython",
    "version": 3
   },
   "file_extension": ".py",
   "mimetype": "text/x-python",
   "name": "python",
   "nbconvert_exporter": "python",
   "pygments_lexer": "ipython3",
   "version": "3.7.1"
  }
 },
 "nbformat": 4,
 "nbformat_minor": 2
}
